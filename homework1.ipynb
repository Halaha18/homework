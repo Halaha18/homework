{
 "cells": [
  {
   "cell_type": "code",
   "execution_count": null,
   "metadata": {},
   "outputs": [],
   "source": [
    "L1 = ['HTTP', 'HTTPS', 'FTP', 'DNS']\n",
    "L2 = [80, 443, 21, 53]\n",
    "\n",
    "M = {key: value for key, value in zip(L1, L2)}\n",
    "print(M)"
   ]
  },
  {
   "cell_type": "code",
   "execution_count": null,
   "metadata": {},
   "outputs": [],
   "source": [
    "def factorial(n):\n",
    "    if n < 0:\n",
    "        return \"Factorial is not defined for negative numbers.\"\n",
    "    elif n == 0 or n == 1:\n",
    "        return 1\n",
    "    else:\n",
    "        return n * factorial(n - 1)\n",
    "\n",
    "\n",
    "number = int(input(\"Enter a number: \"))\n",
    "\n",
    "result = factorial(number)\n",
    "print(f\"The factorial of {number} is {result}\")"
   ]
  },
  {
   "cell_type": "code",
   "execution_count": null,
   "metadata": {},
   "outputs": [],
   "source": [
    "L = ['Network', 'Bio', 'Programming', 'Physics', 'Music']\n",
    "\n",
    "# Use list comprehension to find items starting with 'B'\n",
    "items_B = [item for item in L if item.startswith('B')]\n",
    "\n",
    "# Print the matching items\n",
    "for item in items_B:\n",
    "    print('the item is',item)"
   ]
  },
  {
   "cell_type": "code",
   "execution_count": null,
   "metadata": {},
   "outputs": [],
   "source": [
    "h = {i: i+1 for i in range(11)}\n",
    "print('the dictionary : ',h)\n"
   ]
  },
  {
   "cell_type": "code",
   "execution_count": null,
   "metadata": {},
   "outputs": [],
   "source": [
    "def binary_to_decimal(b):\n",
    "    decimal_number = 0\n",
    "    l = len(b)\n",
    "    for i in range(l):\n",
    "        decimal_number += int(b[l - i - 1]) * (2 ** i)\n",
    "    \n",
    "    return decimal_number\n",
    "\n",
    "def is_binary_number(s):\n",
    "    return all(c in '01' for c in s)\n",
    "\n",
    "def main():\n",
    "    while True:\n",
    "        b = input(\"Enter a binary number: \")\n",
    "\n",
    "        if is_binary_number(b):\n",
    "            decimal_number = binary_to_decimal(b)\n",
    "            print(f\"The decimal equivalent of binary {b} is {decimal_number}\")\n",
    "            break\n",
    "        else:\n",
    "            print(\"Invalid input. Please enter a valid binary number (only 0s and 1s).\")\n",
    "\n",
    "if __name__ == \"__main__\":\n",
    "    main()"
   ]
  },
  {
   "cell_type": "code",
   "execution_count": null,
   "metadata": {},
   "outputs": [],
   "source": [
    "import json\n",
    "\n",
    "# Initialize variables\n",
    "questions = []\n",
    "scores = 0\n",
    "number = 1\n",
    "\n",
    "# Load questions from file\n",
    "with open(\"questions.txt\", 'r') as f:\n",
    "    questions = json.load(f)\n",
    "\n",
    "print(\"Python Quiz Program\")\n",
    "print(\"Enter 't' for True or 'f' for False (if applicable)\")\n",
    "name = input(\"Enter your full name: \")\n",
    "\n",
    "for item in questions:\n",
    "    ques = item[\"question\"]\n",
    "    correct_answer = item[\"answer\"].strip().lower()\n",
    "    \n",
    "    print(\"Question\", number, \":\", ques)\n",
    "    ans = input(\"The answer is: \").strip().lower()  \n",
    "    \n",
    "    if ans == correct_answer:  \n",
    "        scores += 1\n",
    "        print(\"Correct\")\n",
    "    else:\n",
    "        print(\"Wrong\")\n",
    "    number += 1\n",
    "\n",
    "# Write result to file\n",
    "result = {name: scores}\n",
    "with open(\"results.txt\", 'a') as m:  # Use 'a' to append to the file\n",
    "    json.dump(result, m)\n",
    "    m.write('\\n')  # Add a new line for each result\n"
   ]
  },
  {
   "cell_type": "code",
   "execution_count": null,
   "metadata": {},
   "outputs": [],
   "source": [
    "class bankaccount:\n",
    "    def __init__ (self,account_number,account_holder,balance=0.0):\n",
    "        self.account_number=account_number\n",
    "        self.account_holder=account_holder\n",
    "        self.balance=balance \n",
    "    def deposit(self,amount):\n",
    "        self.balance +=amount\n",
    "        print(amount)\n",
    "    def withdraw(self,amount):\n",
    "        if self.balance>=amount:\n",
    "            self.balance -=amount\n",
    "        print(amount)\n",
    "    def get_balance(self):\n",
    "        print(self.balance)\n",
    "p = bankaccount(\"123456\",\"hala\")\n",
    "print(\"account number:\" , p.account_number , \"user name:\" , p.account_holder)\n",
    "print(\"deposit:\")\n",
    "p.deposit(1000)\n",
    "print(\"draw:\")\n",
    "p.withdraw(500)\n",
    "print(\"balance:\")\n",
    "p.get_balance()\n",
    "class savingaccount(bankaccount):\n",
    "    def __init__(self, account_number, account_holder, balance=0,interset_rate=0):\n",
    "        super().__init__(account_number, account_holder, balance)\n",
    "        self.interest_rate=interset_rate\n",
    "    def apply_interest(self):\n",
    "        self.balance +=self.balance * (self.interest_rate / 100)\n",
    "    def overrideprint(self):\n",
    "        print(\"new balance:\" ,self.balance ,\"new interest rate:\" , self.interest_rate)\n",
    "h=savingaccount(\"4455\",\"hala\",5,6)\n",
    "h.apply_interest()\n",
    "h.overrideprint()\n"
   ]
  }
 ],
 "metadata": {
  "language_info": {
   "name": "python"
  }
 },
 "nbformat": 4,
 "nbformat_minor": 2
}
